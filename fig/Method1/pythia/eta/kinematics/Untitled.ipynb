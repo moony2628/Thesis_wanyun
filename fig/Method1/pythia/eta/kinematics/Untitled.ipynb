{
 "cells": [
  {
   "cell_type": "code",
   "execution_count": 20,
   "id": "83ccbb13",
   "metadata": {},
   "outputs": [
    {
     "name": "stderr",
     "output_type": "stream",
     "text": [
      "Info in <TCanvas::Print>: pdf file test.pdf has been created\n"
     ]
    }
   ],
   "source": [
    "from ROOT import *\n",
    "import numpy as np\n",
    "xbins = np.array([0.,1.,2.,3.,4.,5.,6.])\n",
    "for i in range(1):\n",
    "    gStyle.SetOptStat(0)\n",
    "    c = TCanvas(\"\",\"\",500,500)\n",
    "    gamma_hist = TH1F(\"\",\"\",6,xbins)\n",
    "    dijet_hist = TH1F(\"\",\"\",6,xbins)\n",
    "    data_hist = TH1F(\"\",\"\",6,xbins)\n",
    "    #gPad.SetLogy()\n",
    "\n",
    "\n",
    "    gamma_hist.GetXaxis().SetTitle(\"region\")\n",
    "    gamma_hist.GetYaxis().SetTitle(\"nevents\")\n",
    "    dijet_hist.GetXaxis().CenterLabels()\n",
    "    dijet_hist.GetXaxis().ChangeLabel(1,-1,-1,-1,-1,-1,\"#scale[0.5]{#splitline{0<|\\eta_{c}|<0.5}{0.5<|\\eta_{f}|<1}}\")\n",
    "    dijet_hist.GetXaxis().ChangeLabel(2,-1,-1,-1,-1,-1,\"#scale[0.5]{#splitline{0<|\\eta_{c}|<0.5}{1<|\\eta_{f}|<1.5}}\")\n",
    "    dijet_hist.GetXaxis().ChangeLabel(3,-1,-1,-1,-1,-1,\"#scale[0.5]{#splitline{0<|\\eta_{c}|<0.5}{1.5<|\\eta_{f}|<2.1}}\")\n",
    "    dijet_hist.GetXaxis().ChangeLabel(4,-1,-1,-1,-1,-1,\"#scale[0.5]{#splitline{0.5<|\\eta_{c}|<1}{1<|\\eta_{f}|<1.5}}\")\n",
    "    dijet_hist.GetXaxis().ChangeLabel(5,-1,-1,-1,-1,-1,\"#scale[0.5]{#splitline{0.5<|\\eta_{c}|<1}{1.5<|\\eta_{f}|<2.1}}\")\n",
    "    dijet_hist.GetXaxis().ChangeLabel(6,-1,-1,-1,-1,-1,\"#scale[0.5]{#splitline{1<|\\eta_{c}|<1.5}{1.5<|\\eta_{f}|<2.1}}\")\n",
    "\n",
    "    \n",
    "    \n",
    "    dijet_hist.Draw(\"hist\")\n",
    "    c.Print(\"test.pdf\")"
   ]
  },
  {
   "cell_type": "code",
   "execution_count": 11,
   "id": "0f51f2fa",
   "metadata": {},
   "outputs": [
    {
     "data": {
      "text/plain": [
       "<cppyy.gbl.THashList object at 0x(nil)>"
      ]
     },
     "execution_count": 11,
     "metadata": {},
     "output_type": "execute_result"
    }
   ],
   "source": [
    "dijet_hist.GetXaxis().GetLabels()"
   ]
  },
  {
   "cell_type": "code",
   "execution_count": 12,
   "id": "9c37b5d0",
   "metadata": {},
   "outputs": [
    {
     "ename": "ReferenceError",
     "evalue": "attempt to access a null-pointer",
     "output_type": "error",
     "traceback": [
      "\u001b[0;31m---------------------------------------------------------------------------\u001b[0m",
      "\u001b[0;31mReferenceError\u001b[0m                            Traceback (most recent call last)",
      "\u001b[0;32m<ipython-input-12-f9637ff6797a>\u001b[0m in \u001b[0;36m<module>\u001b[0;34m\u001b[0m\n\u001b[0;32m----> 1\u001b[0;31m \u001b[0mdijet_hist\u001b[0m\u001b[0;34m.\u001b[0m\u001b[0mGetXaxis\u001b[0m\u001b[0;34m(\u001b[0m\u001b[0;34m)\u001b[0m\u001b[0;34m.\u001b[0m\u001b[0mGetLabels\u001b[0m\u001b[0;34m(\u001b[0m\u001b[0;34m)\u001b[0m\u001b[0;34m[\u001b[0m\u001b[0;36m1\u001b[0m\u001b[0;34m]\u001b[0m\u001b[0;34m\u001b[0m\u001b[0;34m\u001b[0m\u001b[0m\n\u001b[0m",
      "\u001b[0;32m/home/qrq/anaconda3/envs/my_root_env/lib/python3.9/site-packages/ROOT/pythonization/_tseqcollection.py\u001b[0m in \u001b[0;36m_getitem_pyz\u001b[0;34m(self, idx)\u001b[0m\n\u001b[1;32m     66\u001b[0m     \u001b[0;31m# Number\u001b[0m\u001b[0;34m\u001b[0m\u001b[0;34m\u001b[0m\u001b[0;34m\u001b[0m\u001b[0m\n\u001b[1;32m     67\u001b[0m     \u001b[0;32melse\u001b[0m\u001b[0;34m:\u001b[0m\u001b[0;34m\u001b[0m\u001b[0;34m\u001b[0m\u001b[0m\n\u001b[0;32m---> 68\u001b[0;31m         \u001b[0midx\u001b[0m \u001b[0;34m=\u001b[0m \u001b[0m_check_index\u001b[0m\u001b[0;34m(\u001b[0m\u001b[0mself\u001b[0m\u001b[0;34m,\u001b[0m \u001b[0midx\u001b[0m\u001b[0;34m)\u001b[0m\u001b[0;34m\u001b[0m\u001b[0;34m\u001b[0m\u001b[0m\n\u001b[0m\u001b[1;32m     69\u001b[0m         \u001b[0mres\u001b[0m \u001b[0;34m=\u001b[0m \u001b[0mself\u001b[0m\u001b[0;34m.\u001b[0m\u001b[0mAt\u001b[0m\u001b[0;34m(\u001b[0m\u001b[0midx\u001b[0m\u001b[0;34m)\u001b[0m\u001b[0;34m\u001b[0m\u001b[0;34m\u001b[0m\u001b[0m\n\u001b[1;32m     70\u001b[0m \u001b[0;34m\u001b[0m\u001b[0m\n",
      "\u001b[0;32m/home/qrq/anaconda3/envs/my_root_env/lib/python3.9/site-packages/ROOT/pythonization/_tseqcollection.py\u001b[0m in \u001b[0;36m_check_index\u001b[0;34m(self, idx)\u001b[0m\n\u001b[1;32m     42\u001b[0m     \u001b[0m_check_type\u001b[0m\u001b[0;34m(\u001b[0m\u001b[0midx\u001b[0m\u001b[0;34m,\u001b[0m \u001b[0;34m'list indices must be integers, not {}'\u001b[0m\u001b[0;34m)\u001b[0m\u001b[0;34m\u001b[0m\u001b[0;34m\u001b[0m\u001b[0m\n\u001b[1;32m     43\u001b[0m \u001b[0;34m\u001b[0m\u001b[0m\n\u001b[0;32m---> 44\u001b[0;31m     \u001b[0mlcol\u001b[0m \u001b[0;34m=\u001b[0m \u001b[0mlen\u001b[0m\u001b[0;34m(\u001b[0m\u001b[0mself\u001b[0m\u001b[0;34m)\u001b[0m\u001b[0;34m\u001b[0m\u001b[0;34m\u001b[0m\u001b[0m\n\u001b[0m\u001b[1;32m     45\u001b[0m     \u001b[0;32mif\u001b[0m \u001b[0midx\u001b[0m \u001b[0;34m<\u001b[0m \u001b[0;36m0\u001b[0m\u001b[0;34m:\u001b[0m\u001b[0;34m\u001b[0m\u001b[0;34m\u001b[0m\u001b[0m\n\u001b[1;32m     46\u001b[0m         \u001b[0midx\u001b[0m \u001b[0;34m+=\u001b[0m \u001b[0mlcol\u001b[0m\u001b[0;34m\u001b[0m\u001b[0;34m\u001b[0m\u001b[0m\n",
      "\u001b[0;31mReferenceError\u001b[0m: attempt to access a null-pointer"
     ]
    }
   ],
   "source": [
    "dijet_hist.GetXaxis().GetLabels().G"
   ]
  },
  {
   "cell_type": "code",
   "execution_count": 15,
   "id": "2ee70a17",
   "metadata": {},
   "outputs": [
    {
     "name": "stdout",
     "output_type": "stream",
     "text": [
      "\n"
     ]
    },
    {
     "name": "stderr",
     "output_type": "stream",
     "text": [
      "Info in <TCanvas::Print>: pdf file test.pdf has been created\n"
     ]
    }
   ],
   "source": [
    "from ROOT import *\n",
    "import numpy as np\n",
    "xbins = np.array([0.,1.,2.,3.,4.])\n",
    "for i in range(1):\n",
    "    gStyle.SetOptStat(0)\n",
    "    c = TCanvas(\"\",\"\",500,500)\n",
    "    gamma_hist = TH1F(\"\",\"\",4,xbins)\n",
    "    dijet_hist = TH1F(\"\",\"\",4,xbins)\n",
    "    data_hist = TH1F(\"\",\"\",4,xbins)\n",
    "    #gPad.SetLogy()\n",
    "\n",
    "\n",
    "    gamma_hist.GetXaxis().SetTitle(\"region\")\n",
    "    gamma_hist.GetYaxis().SetTitle(\"nevents\")\n",
    "\n",
    "    print(dijet_hist.GetXaxis().GetBinLabel(4))\n",
    "    dijet_hist.Draw(\"hist\")\n",
    "    c.Print(\"test.pdf\")"
   ]
  },
  {
   "cell_type": "code",
   "execution_count": null,
   "id": "a80b2aab",
   "metadata": {},
   "outputs": [],
   "source": [
    "    histq.GetXaxis().ChangeLabel(2,-1,-1,-1,-1,-1,\"A\")\n",
    "    histq.GetXaxis().ChangeLabel(3,-1,-1,-1,-1,-1)\n",
    "    histq.GetXaxis().ChangeLabel(4,-1,-1,-1,-1,-1,\"B\")\n",
    "    histq.GetXaxis().ChangeLabel(5,-1,-1,-1,-1,-1)\n",
    "    histq.GetXaxis().ChangeLabel(6,-1,-1,-1,-1,-1,\"C\")\n",
    "    histq.GetXaxis().ChangeLabel(7,-1,-1,-1,-1,-1)\n",
    "    histq.GetXaxis().ChangeLabel(8,-1,-1,-1,-1,-1,\"D\")"
   ]
  }
 ],
 "metadata": {
  "kernelspec": {
   "display_name": "Python 3",
   "language": "python",
   "name": "python3"
  },
  "language_info": {
   "codemirror_mode": {
    "name": "ipython",
    "version": 3
   },
   "file_extension": ".py",
   "mimetype": "text/x-python",
   "name": "python",
   "nbconvert_exporter": "python",
   "pygments_lexer": "ipython3",
   "version": "3.9.2"
  }
 },
 "nbformat": 4,
 "nbformat_minor": 5
}
